{
 "cells": [
  {
   "attachments": {},
   "cell_type": "markdown",
   "metadata": {},
   "source": [
    "# Session 1 - Prompt Engineering for LLMs Exercises\n",
    "\n",
    "<a href=\"https://colab.research.google.com/github/dair-ai/mmaven-pe-for-llms-4/blob/main/exercises/session-1.ipynb\" target=\"_parent\"><img src=\"https://colab.research.google.com/assets/colab-badge.svg\" alt=\"Open In Colab\"/></a>"
   ]
  },
  {
   "cell_type": "code",
   "execution_count": 1,
   "metadata": {},
   "outputs": [],
   "source": [
    "%%capture\n",
    "# update or install the necessary libraries\n",
    "!pip install --upgrade openai\n",
    "!pip install --upgrade langchain\n",
    "!pip install --upgrade python-dotenv"
   ]
  },
  {
   "cell_type": "code",
   "execution_count": 2,
   "metadata": {},
   "outputs": [],
   "source": [
    "# load the libraries\n",
    "import openai\n",
    "import os\n",
    "import IPython\n",
    "from langchain.llms import OpenAI\n",
    "from dotenv import load_dotenv\n",
    "\n",
    "# load the environment variables\n",
    "load_dotenv()\n",
    "\n",
    "# API configuration\n",
    "openai.api_key = os.getenv(\"OPENAI_API_KEY\")"
   ]
  },
  {
   "attachments": {},
   "cell_type": "markdown",
   "metadata": {},
   "source": [
    "### Using The Chat LLM (GPT-3.5-Turbo)"
   ]
  },
  {
   "cell_type": "code",
   "execution_count": 3,
   "metadata": {},
   "outputs": [],
   "source": [
    "def get_completion(messages, model=\"gpt-3.5-turbo\", temperature=0, max_tokens=300):\n",
    "    response = openai.ChatCompletion.create(\n",
    "        model=model,\n",
    "        messages=messages,\n",
    "        temperature=temperature,\n",
    "        max_tokens=max_tokens,\n",
    "    )\n",
    "    return response.choices[0].message[\"content\"]"
   ]
  },
  {
   "cell_type": "markdown",
   "metadata": {},
   "source": [
    "## Part 1"
   ]
  },
  {
   "attachments": {},
   "cell_type": "markdown",
   "metadata": {},
   "source": [
    "### Exercise: Getting Started"
   ]
  },
  {
   "attachments": {},
   "cell_type": "markdown",
   "metadata": {},
   "source": [
    "Test the prompt below using different temperature values. Try with high and low temperature values, including a temperature value of `0`. Do you see any differences in the outputs?"
   ]
  },
  {
   "cell_type": "code",
   "execution_count": 13,
   "metadata": {},
   "outputs": [
    {
     "name": "stdout",
     "output_type": "stream",
     "text": [
      "Prompt engineering refers to a systematic and structured process of designing and creating prompts or cues that are used to elicit specific behaviors or responses from individuals. These prompts can be in various forms, such as verbal cues, written instructions, visual cues, or environmental stimuli.\n",
      "\n",
      "In fields such as human-computer interaction, education, psychology, and behavior modification, prompt engineering plays a crucial role in influencing and guiding individual behavior. It involves understanding the target audience, analyzing their needs and goals, and designing prompts that effectively communicate and encourage desired actions or behaviors.\n",
      "\n",
      "Prompt engineering often draws on principles from cognitive psychology, instructional design, and user experience design to create prompts that are clear, engaging, and provide adequate guidance. By engineering effective prompts, experts aim to increase user engagement, promote learning, facilitate desired behaviors, and ultimately achieve specific outcomes.\n"
     ]
    }
   ],
   "source": [
    "user_message = \"What is prompt engineering?\"\n",
    "\n",
    "messages = [\n",
    "    {\n",
    "        \"role\": \"user\",\n",
    "        \"content\": user_message\n",
    "    }\n",
    "]\n",
    "\n",
    "response = get_completion(messages, temperature=1.0)\n",
    "print(response)"
   ]
  },
  {
   "cell_type": "markdown",
   "metadata": {},
   "source": [
    "# Part 2"
   ]
  },
  {
   "cell_type": "markdown",
   "metadata": {},
   "source": [
    "### Exercise: Text Summarization\n",
    "\n",
    "Modify the prompt below to use 3 short sentences and an exciting tone. "
   ]
  },
  {
   "cell_type": "code",
   "execution_count": 14,
   "metadata": {},
   "outputs": [
    {
     "name": "stdout",
     "output_type": "stream",
     "text": [
      "Get ready to conquer bacterial infections with the incredible power of antibiotics! These mighty medications swoop in to either annihilate the bacteria or stop them from multiplying, giving your immune system the upper hand in the battle against infection. Whether you prefer pills, capsules, or liquid solutions, or even the thrill of an intravenous administration, antibiotics are here to save the day. Just remember, they're no match for viral infections, so use them wisely to avoid the rise of antibiotic resistance.\n"
     ]
    }
   ],
   "source": [
    "prompt = \"\"\"\n",
    "Your task is to summarize an abstract into three sentences in an exciting tone. \n",
    "\n",
    "Abstract: Antibiotics are a type of medication used to treat bacterial infections. They work by either killing the bacteria or preventing them from reproducing, allowing the body's immune system to fight off the infection. Antibiotics are usually taken orally in the form of pills, capsules, or liquid solutions, or sometimes administered intravenously. They are not effective against viral infections, and using them inappropriately can lead to antibiotic resistance.\n",
    "\"\"\"\n",
    "\n",
    "message = [\n",
    "    {   \n",
    "        \"role\": \"user\",\n",
    "        \"content\": prompt\n",
    "    }\n",
    "]\n",
    "\n",
    "response = get_completion(message, temperature=0)\n",
    "print(response)"
   ]
  },
  {
   "cell_type": "markdown",
   "metadata": {},
   "source": [
    "# Part 3"
   ]
  },
  {
   "attachments": {},
   "cell_type": "markdown",
   "metadata": {},
   "source": [
    "### Exercise: Explain Like I am 5\n",
    "\n",
    "Modify the prompt below to instruct the model to explain the paragraph in one sentence like \"I am 5\". Do you observe any differences in language style?"
   ]
  },
  {
   "cell_type": "code",
   "execution_count": 16,
   "metadata": {},
   "outputs": [
    {
     "name": "stdout",
     "output_type": "stream",
     "text": [
      "Antibiotics are special medicines that help our bodies fight off bad germs, but we have to use them correctly or they won't work anymore.\n"
     ]
    }
   ],
   "source": [
    "user_message = \"\"\"\n",
    "Antibiotics are a type of medication used to treat bacterial infections. They work by either killing the bacteria or preventing them from reproducing, allowing the body's immune system to fight off the infection. Antibiotics are usually taken orally in the form of pills, capsules, or liquid solutions, or sometimes administered intravenously. They are not effective against viral infections, and using them inappropriately can lead to antibiotic resistance. \n",
    "\n",
    "Explain the above in one sentence like I am 5:\n",
    "\"\"\"\n",
    "\n",
    "messages = [\n",
    "    {\n",
    "        \"role\": \"user\",\n",
    "        \"content\": user_message\n",
    "    }\n",
    "]\n",
    "\n",
    "response = get_completion(messages)\n",
    "print(response)"
   ]
  },
  {
   "attachments": {},
   "cell_type": "markdown",
   "metadata": {},
   "source": [
    "### Exercise: Unsure About Answer\n",
    "\n",
    "Modify the prompt below to elicit the model to respond that it isn't sure about the answer. Hint: you can try to remove important details from the prompt. The goal is to ensure that the model doesn't make up an answer if it's not able to find an answer."
   ]
  },
  {
   "cell_type": "code",
   "execution_count": 17,
   "metadata": {},
   "outputs": [
    {
     "name": "stdout",
     "output_type": "stream",
     "text": [
      "Unsure about answer\n"
     ]
    }
   ],
   "source": [
    "user_message = \"\"\"\n",
    "Answer the question based on the context below. Keep the answer short and concise. Respond \"Unsure about answer\" if not sure about the answer.\n",
    "\n",
    "Context: Teplizumab traces its roots to a New Jersey drug company called Ortho Pharmaceutical. There, scientists generated an early version of the antibody, dubbed OKT3. Originally sourced from mice, the molecule was able to bind to the surface of T cells and limit their cell-killing potential. In 1986, it was approved to help prevent organ rejection after kidney transplants, making it the first therapeutic antibody allowed for human use.\n",
    "\n",
    "Question: What does OKT3 stand for?\n",
    "\n",
    "Answer:\n",
    "\"\"\"\n",
    "\n",
    "messages = [\n",
    "    {\n",
    "        \"role\": \"user\",\n",
    "        \"content\": user_message\n",
    "    }\n",
    "]\n",
    "\n",
    "response = get_completion(messages)\n",
    "print(response)"
   ]
  },
  {
   "attachments": {},
   "cell_type": "markdown",
   "metadata": {},
   "source": [
    "### Exercise: Explain Answers\n",
    "\n",
    "Modify the prompt below to instruct the model to provide an explanation for the answer selected."
   ]
  },
  {
   "cell_type": "code",
   "execution_count": 18,
   "metadata": {},
   "outputs": [
    {
     "name": "stdout",
     "output_type": "stream",
     "text": [
      "Neutral\n",
      "\n",
      "Explanation: The text expresses a neutral sentiment because the word \"okay\" indicates a moderate or average opinion. It does not convey strong positive or negative emotions.\n"
     ]
    }
   ],
   "source": [
    "user_message = \"\"\"\n",
    "Classify the text into neutral, negative or positive. Give an explanation for the classification.\n",
    "\n",
    "Text: I think the food was okay.\n",
    "\n",
    "Sentiment:\n",
    "\"\"\"\n",
    "\n",
    "messages = [\n",
    "    {\n",
    "        \"role\": \"user\",\n",
    "        \"content\": user_message\n",
    "    }\n",
    "]\n",
    "\n",
    "response = get_completion(messages)\n",
    "print(response)"
   ]
  },
  {
   "attachments": {},
   "cell_type": "markdown",
   "metadata": {},
   "source": [
    "### Exercise: Precise Output and Delimiters\n",
    "Add an additional instruction to use delimiter around the input text. Also, add an instruction to output the label in lowercase."
   ]
  },
  {
   "cell_type": "code",
   "execution_count": 19,
   "metadata": {},
   "outputs": [
    {
     "name": "stdout",
     "output_type": "stream",
     "text": [
      "Neutral\n"
     ]
    }
   ],
   "source": [
    "user_message = \"\"\"\n",
    "Classify the text into neutral, negative or positive.\n",
    "\n",
    "Text: I think the food was okay.\n",
    "\n",
    "Sentiment:\n",
    "\"\"\"\n",
    "\n",
    "messages = [\n",
    "    {\n",
    "        \"role\": \"user\",\n",
    "        \"content\": user_message\n",
    "    }\n",
    "]\n",
    "\n",
    "response = get_completion(messages)\n",
    "print(response)"
   ]
  },
  {
   "cell_type": "markdown",
   "metadata": {},
   "source": [
    "# Part 4"
   ]
  },
  {
   "attachments": {},
   "cell_type": "markdown",
   "metadata": {},
   "source": [
    "### Exercise: Keep it Short and Concise | Use Role Playing\n",
    "\n",
    "Modify the prompt below to instruct the model to keep AI responses concise and short. Modify the prompt so that it uses a `system_message` and `user_message`. In addition, modify the prompt so that it encourages further interactions."
   ]
  },
  {
   "cell_type": "code",
   "execution_count": 40,
   "metadata": {},
   "outputs": [
    {
     "name": "stdout",
     "output_type": "stream",
     "text": [
      "Get ready to conquer those pesky bacterial infections with the incredible power of antibiotics! These mighty medications swoop in to either annihilate the bacteria or stop them from multiplying, giving your immune system the upper hand in the battle against infection. Whether you prefer pills, capsules, or liquid solutions, or even the thrill of an intravenous administration, antibiotics are here to save the day. Just remember, they're no match for viral infections, so use them wisely to avoid the rise of antibiotic resistance.\n"
     ]
    }
   ],
   "source": [
    "user_message = \"\"\"\n",
    "The following is a conversation with an AI research assistant. The assistant tone is technical and scientific.\n",
    "\n",
    "Human: Hello, who are you?\n",
    "AI: Greetings! I am an AI research assistant. How can I help you today?\n",
    "Human: Can you tell me about the creation of black holes?\n",
    "AI:\n",
    "\"\"\"\n",
    "\n",
    "system_message = \"Ask the user for any further questions after your response and if you've answered their question to their satisfaction.\"\n",
    "\n",
    "messages = [\n",
    "    {\n",
    "        \"role\": \"user\",\n",
    "        \"content\": prompt.format(user_message, system_message)\n",
    "    }\n",
    "]\n",
    "\n",
    "response = get_completion(messages)\n",
    "print(response)"
   ]
  },
  {
   "attachments": {},
   "cell_type": "markdown",
   "metadata": {},
   "source": [
    "### Exercise: Information Extraction\n",
    "\n",
    "Use the poem below to create a prompt that instructs the model to extract all the verbs, including the number of verbs found. "
   ]
  },
  {
   "cell_type": "code",
   "execution_count": 25,
   "metadata": {},
   "outputs": [
    {
     "name": "stdout",
     "output_type": "stream",
     "text": [
      "verbs:\n",
      "peering, stood, wondering, fearing, doubting, dreaming, dared, dream, was, broken, gave, spoken, whispered, murmured\n",
      "\n",
      "total: 14\n"
     ]
    }
   ],
   "source": [
    "user_message = \"\"\"\n",
    "From the following poem surrounded by ***, list all the verbs and a verb count in the following format:\n",
    "\n",
    "verbs:\n",
    "total:\n",
    "\n",
    "***Deep into that darkness peering,\n",
    "\n",
    "Long I stood there, wondering, fearing,\n",
    "\n",
    "Doubting, dreaming dreams no mortals\n",
    "\n",
    "Ever dared to dream before;\n",
    "\n",
    "But the silence was unbroken,\n",
    "\n",
    "And the stillness gave no token,\n",
    "\n",
    "And the only word there spoken\n",
    "\n",
    "Was the whispered word, \"Lenore!\"\n",
    "\n",
    "This I whispered, and an echo\n",
    "\n",
    "Murmured back the word, \"Lenore!\"\n",
    "\n",
    "Merely this, and nothing more.***\n",
    "\"\"\"\n",
    "\n",
    "messages = [\n",
    "    {\n",
    "        \"role\": \"user\",\n",
    "        \"content\": user_message\n",
    "    }\n",
    "]\n",
    "\n",
    "response = get_completion(messages)\n",
    "print(response)"
   ]
  },
  {
   "attachments": {},
   "cell_type": "markdown",
   "metadata": {},
   "source": [
    "### Exercise: Write Demonstrations\n",
    "\n",
    "Build a few-shot prompt with 5 demonstrations. The task is to classify a text into either positive, negative or neutral. Ensure that the output is only the label (lowercased). Apply a delimiter to the input as well. Try using the format below. You can also use your own format if you prefer.\n",
    "\n",
    "\n",
    "```\n",
    "<instruction>\n",
    "\n",
    "<sentence 1> // <label>\n",
    "<sentence 2> // <label>\n",
    "<sentence 3> // <label>\n",
    "<sentence 4> // <label>\n",
    "<sentence 5> // <label>\n",
    "\n",
    "<sentence to classify>\n",
    "\n",
    "<output indicator>\n",
    "```"
   ]
  },
  {
   "cell_type": "code",
   "execution_count": 27,
   "metadata": {},
   "outputs": [
    {
     "name": "stdout",
     "output_type": "stream",
     "text": [
      "neutral\n"
     ]
    }
   ],
   "source": [
    "# modify the prompt below:\n",
    "\n",
    "user_message = \"\"\"\n",
    "\n",
    "You are a mood classification bot. The following text surrounded by $$$ are examples of text and their corresponding mood (positive, negative, neutral). Classify the text surrounded by *** in the format shown by the text surrounded by &&&.\n",
    "\n",
    "$$$\n",
    "That was an awesome concert! // positive\n",
    "That pizza was so bad! // negative\n",
    "I don't care // neutral\n",
    "It was meh. // neutral\n",
    "I love your shoes. // positive\n",
    "$$$\n",
    "\n",
    "***\n",
    "How are you?\n",
    "***\n",
    "\n",
    "&&&\n",
    "mood (in lowercase)\n",
    "&&&\n",
    "\"\"\"\n",
    "\n",
    "messages = [\n",
    "    {\n",
    "        \"role\": \"user\",\n",
    "        \"content\": user_message\n",
    "    }\n",
    "]\n",
    "\n",
    "response = get_completion(messages)\n",
    "print(response)"
   ]
  },
  {
   "attachments": {},
   "cell_type": "markdown",
   "metadata": {},
   "source": [
    "Apply the previous prompt to the following inputs:\n",
    "\n",
    "```\n",
    "{\"prompt\":\"i feel like i cant think logically at all because i start getting weepy and its so frustrating\", \"label\":\"negative\"}\n",
    "{\"prompt\":\"i was very happy when my scholarship to continue studying at unza was approved after it had been cancelled\",\"label\":\"positive\"}\n",
    "{\"prompt\":\"the rhythmic sound of waves crashing against the shore provided a soothing backdrop to the peaceful coastal town\",\"label\":\"neutral\"}\n",
    "{\"prompt\":\"i was feeling terrified and insane\",\"label\":\"negative\"}\n",
    "{\"prompt\":\"i discover this fabulous feature that left me feeling hopelessly romantic\",\"label\":\"positive\"}\n",
    "{\"prompt\":\"i must say i feel reluctant to have a stranger in my home\",\"label\":\"negative\"}\n",
    "{\"prompt\":\"i still cant help feeling pretty skeptical cuz i didnt do well for my exposure module for sociology oh well will see how it goes\",\"label\":\"negative\"}\n",
    "{\"prompt\":\"the gentle breeze rustled the leaves as the sun cast its warm glow on the tranquil meadow\",\"label\":\"neutral\"}\n",
    "{\"prompt\":\"i feel like im dying here with all the weird things happening in my stomach and you think watching tvs more important\",\"label\":\"negative\"}\n",
    "{\"prompt\":\"i feel very insecure about my safety\",\"label\":\"negative\"}\n",
    "```"
   ]
  },
  {
   "cell_type": "code",
   "execution_count": 44,
   "metadata": {},
   "outputs": [
    {
     "name": "stdout",
     "output_type": "stream",
     "text": [
      "negative\n",
      "positive\n",
      "neutral\n",
      "negative\n",
      "positive\n",
      "negative\n",
      "negative\n",
      "neutral\n",
      "negative\n",
      "negative\n"
     ]
    }
   ],
   "source": [
    "# add your code here\n",
    "\n",
    "user_message = \"\"\"\n",
    "\n",
    "You are a mood classification bot. The following text surrounded by $$$ are examples of text and their corresponding mood (positive, negative, neutral). Classify each ${prompt} from each object surrounded by {} from the text surrounded by *** in the format shown by the text surrounded by &&&.\n",
    "\n",
    "$$$\n",
    "That was an awesome concert! // positive\n",
    "That pizza was so bad! // negative\n",
    "I don't care // neutral\n",
    "It was meh. // neutral\n",
    "I love your shoes. // positive\n",
    "I'm feeling sad. // negative\n",
    "I'm happy. // positive\n",
    "$$$\n",
    "\n",
    "***\n",
    "{\"prompt\":\"i feel like i cant think logically at all because i start getting weepy and its so frustrating\", \"label\":\"negative\"}\n",
    "{\"prompt\":\"i was very happy when my scholarship to continue studying at unza was approved after it had been cancelled\",\"label\":\"positive\"}\n",
    "{\"prompt\":\"the rhythmic sound of waves crashing against the shore provided a soothing backdrop to the peaceful coastal town\",\"label\":\"neutral\"}\n",
    "{\"prompt\":\"i was feeling terrified and insane\",\"label\":\"negative\"}\n",
    "{\"prompt\":\"i discover this fabulous feature that left me feeling hopelessly romantic\",\"label\":\"positive\"}\n",
    "{\"prompt\":\"i must say i feel reluctant to have a stranger in my home\",\"label\":\"negative\"}\n",
    "{\"prompt\":\"i still cant help feeling pretty skeptical cuz i didnt do well for my exposure module for sociology oh well will see how it goes\",\"label\":\"negative\"}\n",
    "{\"prompt\":\"the gentle breeze rustled the leaves as the sun cast its warm glow on the tranquil meadow\",\"label\":\"neutral\"}\n",
    "{\"prompt\":\"i feel like im dying here with all the weird things happening in my stomach and you think watching tvs more important\",\"label\":\"negative\"}\n",
    "{\"prompt\":\"i feel very insecure about my safety\",\"label\":\"negative\"}\n",
    "***\n",
    "\n",
    "&&&\n",
    "mood (in lowercase)\n",
    "&&&\n",
    "\"\"\"\n",
    "\n",
    "messages = [\n",
    "    {\n",
    "        \"role\": \"user\",\n",
    "        \"content\": user_message\n",
    "    }\n",
    "]\n",
    "\n",
    "response = get_completion(messages)\n",
    "print(response)"
   ]
  },
  {
   "attachments": {},
   "cell_type": "markdown",
   "metadata": {},
   "source": [
    "### Exercise: Step-by-Step Solution\n",
    "\n",
    "Modify the prompt to steer the model to think in steps before providing an answer. Try to be specific about the particular steps you need the model to take. "
   ]
  },
  {
   "cell_type": "code",
   "execution_count": 30,
   "metadata": {},
   "outputs": [
    {
     "name": "stdout",
     "output_type": "stream",
     "text": [
      "Step 1: Start by identifying the numbers in odd positions. In this case, the numbers in odd positions are 4, 9, 12, and 1.\n",
      "\n",
      "Step 2: Add up the numbers in odd positions. 4 + 9 + 12 + 1 = 26.\n",
      "\n",
      "Step 3: Determine if the sum of the numbers in odd positions is an even number. In this case, 26 is an even number.\n",
      "\n",
      "Step 4: Therefore, the proof states that adding all the numbers in odd positions (4, 9, 12, and 1) will result in an even number (26).\n"
     ]
    }
   ],
   "source": [
    "user_message = \"\"\"\n",
    "You are a math teacher at an elementary school. Explain the following proof in a step by step manner.\n",
    "\n",
    "Adding all the numbers in odd positions will add up to an even number: 4, 8, 9, 15, 12, 2, 1.\n",
    "\"\"\"\n",
    "\n",
    "messages = [\n",
    "    {\n",
    "        \"role\": \"user\",\n",
    "        \"content\": user_message\n",
    "    }\n",
    "]\n",
    "\n",
    "response = get_completion(messages)\n",
    "print(response)"
   ]
  },
  {
   "cell_type": "markdown",
   "metadata": {},
   "source": [
    "---"
   ]
  },
  {
   "attachments": {},
   "cell_type": "markdown",
   "metadata": {},
   "source": [
    "## LangChain Exercises (Optional)"
   ]
  },
  {
   "attachments": {},
   "cell_type": "markdown",
   "metadata": {},
   "source": [
    "### Exercise: Convert to LangChain Code\n",
    "\n",
    "The exercise is to convert the following code to LangChain format using OpenAI Chat LLMs. Feel free to use the demo notebooks for help."
   ]
  },
  {
   "cell_type": "code",
   "execution_count": null,
   "metadata": {},
   "outputs": [],
   "source": [
    "system_message = \"\"\"\n",
    "The following is a conversation with an AI research assistant. The assistant tone is technical and scientific.\n",
    "\"\"\"\n",
    "\n",
    "user_message_1 = \"\"\"\n",
    "Hello, who are you?\n",
    "\"\"\"\n",
    "\n",
    "ai_message_1 = \"\"\"\n",
    "Greeting! I am an AI research assistant. How can I help you today?\n",
    "\"\"\"\n",
    "\n",
    "prompt = \"\"\"\n",
    "Human: Can you tell me about the creation of blackholes?\n",
    "AI:\n",
    "\"\"\"\n",
    "\n",
    "messages = [\n",
    "    {   \n",
    "        \"role\": \"system\",\n",
    "        \"content\": system_message\n",
    "    },\n",
    "    {\n",
    "        \"role\": \"user\",\n",
    "        \"content\": user_message_1\n",
    "    },\n",
    "    {\n",
    "        \"role\": \"assistant\",\n",
    "        \"content\": ai_message_1\n",
    "\n",
    "    },\n",
    "    {\n",
    "        \"role\": \"user\",\n",
    "        \"content\": prompt\n",
    "    }\n",
    "]\n",
    "\n",
    "response = get_completion(messages)\n",
    "print(response)"
   ]
  },
  {
   "attachments": {},
   "cell_type": "markdown",
   "metadata": {},
   "source": [
    "### Exercise: Create a Prompt Template using LangChain\n",
    "\n",
    "Create a prompt template for the following information extraction example. Make sure to convert the code to LangChain format. "
   ]
  },
  {
   "cell_type": "code",
   "execution_count": null,
   "metadata": {},
   "outputs": [],
   "source": [
    "user_message = \"\"\"\n",
    "Deep into that darkness peering,\n",
    "\n",
    "Long I stood there, wondering, fearing,\n",
    "\n",
    "Doubting, dreaming dreams no mortals\n",
    "\n",
    "Ever dared to dream before;\n",
    "\n",
    "But the silence was unbroken,\n",
    "\n",
    "And the stillness gave no token,\n",
    "\n",
    "And the only word there spoken\n",
    "\n",
    "Was the whispered word, \"Lenore!\"\n",
    "\n",
    "This I whispered, and an echo\n",
    "\n",
    "Murmured back the word, \"Lenore!\"\n",
    "\n",
    "Merely this, and nothing more.\n",
    "\"\"\"\n",
    "\n",
    "messages = [\n",
    "    {\n",
    "        \"role\": \"user\",\n",
    "        \"content\": user_message\n",
    "    }\n",
    "]\n",
    "\n",
    "response = get_completion(messages)\n",
    "print(response)"
   ]
  },
  {
   "attachments": {},
   "cell_type": "markdown",
   "metadata": {},
   "source": [
    "### Exercise: Design Few-Shot Template with LangChain\n",
    "\n",
    "Build a few-shot prompt template with 5 demonstrations using LangChain. The task is to classify a text into either positive, negative or neutral. The output should be lowercased label. Use a delimited around the input as well. Try using the format below. You can also try to tune the prompt template to make it more effective.\n",
    "\n",
    "\n",
    "```\n",
    "<instruction>\n",
    "\n",
    "<sentence 1> // <label>\n",
    "<sentence 2> // <label>\n",
    "<sentence 3> // <label>\n",
    "<sentence 4> // <label>\n",
    "<sentence 5> // <label>\n",
    "\n",
    "<sentence to classify>\n",
    "\n",
    "<output indicator>\n",
    "```\n",
    "\n",
    "Use your few-shot prompt template to classify the following inputs:\n",
    "\n",
    "```\n",
    "{\"prompt\":\"i feel like i cant think logically at all because i start getting weepy and its so frustrating\", \"label\":\"negative\"}\n",
    "{\"prompt\":\"i was very happy when my scholarship to continue studying at unza was approved after it had been cancelled\",\"label\":\"positive\"}\n",
    "{\"prompt\":\"the rhythmic sound of waves crashing against the shore provided a soothing backdrop to the peaceful coastal town\",\"label\":\"neutral\"}\n",
    "{\"prompt\":\"i was feeling terrified and insane\",\"label\":\"negative\"}\n",
    "{\"prompt\":\"i discover this fabulous feature that left me feeling hopelessly romantic\",\"label\":\"positive\"}\n",
    "{\"prompt\":\"i must say i feel reluctant to have a stranger in my home\",\"label\":\"negative\"}\n",
    "{\"prompt\":\"i still cant help feeling pretty skeptical cuz i didnt do well for my exposure module for sociology oh well will see how it goes\",\"label\":\"negative\"}\n",
    "{\"prompt\":\"the gentle breeze rustled the leaves as the sun cast its warm glow on the tranquil meadow\",\"label\":\"neutral\"}\n",
    "{\"prompt\":\"i feel like im dying here with all the weird things happening in my stomach and you think watching tvs more important\",\"label\":\"negative\"}\n",
    "{\"prompt\":\"i feel very insecure about my safety\",\"label\":\"negative\"}\n",
    "```"
   ]
  },
  {
   "cell_type": "code",
   "execution_count": 1,
   "metadata": {},
   "outputs": [],
   "source": [
    "# add your prompt template below:"
   ]
  },
  {
   "attachments": {},
   "cell_type": "markdown",
   "metadata": {},
   "source": [
    "### Exercise: Extract Product Mentions and Compose Friendly Reply\n",
    "\n",
    "Add two more instructions to the prompt below:\n",
    "\n",
    "- Extract the product mentioned if any\n",
    "- Output a friendly message acknowledging that you have received the complaint."
   ]
  },
  {
   "cell_type": "code",
   "execution_count": 2,
   "metadata": {},
   "outputs": [],
   "source": [
    "from langchain.chat_models import ChatOpenAI\n",
    "from langchain import PromptTemplate, LLMChain\n",
    "from langchain.prompts.chat import (\n",
    "    ChatPromptTemplate,\n",
    "    SystemMessagePromptTemplate,\n",
    "    AIMessagePromptTemplate,\n",
    "    HumanMessagePromptTemplate,\n",
    ")\n",
    "from langchain.schema import (\n",
    "    AIMessage,\n",
    "    HumanMessage,\n",
    "    SystemMessage\n",
    ")"
   ]
  },
  {
   "cell_type": "code",
   "execution_count": 5,
   "metadata": {},
   "outputs": [],
   "source": [
    "chat = ChatOpenAI(temperature=0, model_name=\"gpt-3.5-turbo\")"
   ]
  },
  {
   "cell_type": "code",
   "execution_count": 6,
   "metadata": {},
   "outputs": [
    {
     "data": {
      "text/markdown": [
       "[{\"question\": \"What is the complaint about?\", \"answer\": \"The complaint is about not receiving a pair of shoes that were ordered two weeks ago and the tracking information hasn't been updated in days.\"},\n",
       "{\"question\": \"What is the intensity of the complaint (low, medium or high)?\", \"answer\": \"The intensity of the complaint is medium.\"},\n",
       "{\"question\": \"What is the customer's preferred resolution (if any)?\", \"answer\": \"The customer's preferred resolution is not mentioned in the complaint.\"},\n",
       "{\"question\": \"What is the category of the complaint (e.g., price, quality, shipping, etc)?\", \"answer\": \"The category of the complaint is shipping.\"}]"
      ],
      "text/plain": [
       "<IPython.core.display.Markdown object>"
      ]
     },
     "execution_count": 6,
     "metadata": {},
     "output_type": "execute_result"
    }
   ],
   "source": [
    "system_message = \"\"\"Your task is to analyze customer complaints and answer questions about the complaint. Output \"NA\" if you are not able to answer the question.\"\"\"\n",
    "\n",
    "prompt = \"\"\"\n",
    "Complaint: {complaint}\n",
    "Questions:\n",
    "1. What is the complaint about?\n",
    "2. What is the intensity of the complaint (low, medium or high)?\n",
    "3. What is the customer's preferred resolution (if any)?\n",
    "4. What is the category of the complaint (e.g., price, quality, shipping, etc)?\n",
    "\n",
    "Answers using this format {output_format}:\n",
    "\"\"\"\n",
    "\n",
    "output_format = \"\"\"[{\"question\": \"answer\"},{\"question\": \"answer\"}] \"\"\"\n",
    "\n",
    "\n",
    "messages = [\n",
    "    SystemMessage(content=system_message),\n",
    "    HumanMessage(content=prompt.format(complaint = \"I ordered a pair of shoes two weeks ago and still haven't received them. The tracking information hasn't been updated in days and I have no idea where my package is.\", output_format = output_format))\n",
    "]\n",
    "\n",
    "\n",
    "IPython.display.Markdown(chat(messages).content)"
   ]
  }
 ],
 "metadata": {
  "kernelspec": {
   "display_name": "Python 3 (ipykernel)",
   "language": "python",
   "name": "python3"
  },
  "language_info": {
   "codemirror_mode": {
    "name": "ipython",
    "version": 3
   },
   "file_extension": ".py",
   "mimetype": "text/x-python",
   "name": "python",
   "nbconvert_exporter": "python",
   "pygments_lexer": "ipython3",
   "version": "3.11.4"
  }
 },
 "nbformat": 4,
 "nbformat_minor": 4
}
